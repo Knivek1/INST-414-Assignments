{
 "cells": [
  {
   "cell_type": "code",
   "execution_count": 1,
   "id": "947a05bc",
   "metadata": {
    "scrolled": false
   },
   "outputs": [],
   "source": [
    "import requests\n",
    "import pandas as pd\n",
    "import matplotlib.pyplot as plt\n",
    "# Getting the boss material data from Genshin Api\n",
    "r = requests.get('https://api.genshin.dev/materials/boss-material')\n",
    "if r.status_code == 200:\n",
    "    data = r.json()\n",
    "else:\n",
    "    print(\"There was an error\")"
   ]
  },
  {
   "cell_type": "code",
   "execution_count": 4,
   "id": "46609db1",
   "metadata": {
    "scrolled": true
   },
   "outputs": [
    {
     "data": {
      "text/html": [
       "<div>\n",
       "<style scoped>\n",
       "    .dataframe tbody tr th:only-of-type {\n",
       "        vertical-align: middle;\n",
       "    }\n",
       "\n",
       "    .dataframe tbody tr th {\n",
       "        vertical-align: top;\n",
       "    }\n",
       "\n",
       "    .dataframe thead th {\n",
       "        text-align: right;\n",
       "    }\n",
       "</style>\n",
       "<table border=\"1\" class=\"dataframe\">\n",
       "  <thead>\n",
       "    <tr style=\"text-align: right;\">\n",
       "      <th></th>\n",
       "      <th>hurricane-seed</th>\n",
       "      <th>hoarfrost-core</th>\n",
       "      <th>lightning-prism</th>\n",
       "      <th>basalt-pillar</th>\n",
       "      <th>cleansing-heart</th>\n",
       "      <th>everflame-seed</th>\n",
       "      <th>juvenile-jade</th>\n",
       "      <th>crystalline-bloom</th>\n",
       "      <th>marionette-core</th>\n",
       "      <th>perpetual-heart</th>\n",
       "      <th>smoldering-pearl</th>\n",
       "      <th>dew-of-repudiation</th>\n",
       "      <th>storm-beads</th>\n",
       "      <th>riftborn-regalia</th>\n",
       "      <th>dragonheir-s-false-fin</th>\n",
       "    </tr>\n",
       "  </thead>\n",
       "  <tbody>\n",
       "    <tr>\n",
       "      <th>name</th>\n",
       "      <td>Hurricane Seed</td>\n",
       "      <td>Hoarfrost Core</td>\n",
       "      <td>Lightning Prism</td>\n",
       "      <td>Basalt Pillar</td>\n",
       "      <td>Cleansing Heart</td>\n",
       "      <td>Everflame Seed</td>\n",
       "      <td>Juvenile Jade</td>\n",
       "      <td>Crystalline Bloom</td>\n",
       "      <td>Marionette Core</td>\n",
       "      <td>Perpetual Heart</td>\n",
       "      <td>Smoldering Pearl</td>\n",
       "      <td>Dew of Repudiation</td>\n",
       "      <td>Storm Beads</td>\n",
       "      <td>Riftborn Regalia</td>\n",
       "      <td>Dragonheir's False Fin</td>\n",
       "    </tr>\n",
       "    <tr>\n",
       "      <th>source</th>\n",
       "      <td>Anemo Hypostasis</td>\n",
       "      <td>Cryo Regisvine</td>\n",
       "      <td>Electro Hypostasis</td>\n",
       "      <td>Geo Hypostasis</td>\n",
       "      <td>Oceanid</td>\n",
       "      <td>Pyro Regisvine</td>\n",
       "      <td>Primo Geovishap</td>\n",
       "      <td>Cryo Hypostasis</td>\n",
       "      <td>Maguu Kenki</td>\n",
       "      <td>Perpetual Mechanical Array</td>\n",
       "      <td>Pyro Hypostasis</td>\n",
       "      <td>Hydro Hypostasis</td>\n",
       "      <td>Thunder Manifestation</td>\n",
       "      <td>Golden Wolflord</td>\n",
       "      <td>Coral Defenders</td>\n",
       "    </tr>\n",
       "    <tr>\n",
       "      <th>characters</th>\n",
       "      <td>[jean, sucrose, venti]</td>\n",
       "      <td>[chongyun, diona, ganyu, kaeya, qiqi, rosaria]</td>\n",
       "      <td>[beidou, fischl, keqing, lisa, razor]</td>\n",
       "      <td>[albedo, ningguang, noelle, zhongli]</td>\n",
       "      <td>[barbara, mona, tartaglia, xingqiu]</td>\n",
       "      <td>[amber, bennett, diluc, klee, xiangling, Xinyan]</td>\n",
       "      <td>[hu-tao, xiao, yanfei]</td>\n",
       "      <td>[aloy, eula]</td>\n",
       "      <td>[kazuha, sayu]</td>\n",
       "      <td>[gorou, ayaka]</td>\n",
       "      <td>[thoma, yoimiya]</td>\n",
       "      <td>[kokomi]</td>\n",
       "      <td>[sara, raiden]</td>\n",
       "      <td>[arataki-itto, yun-jin]</td>\n",
       "      <td>[shenhe, yae-miko]</td>\n",
       "    </tr>\n",
       "  </tbody>\n",
       "</table>\n",
       "</div>"
      ],
      "text/plain": [
       "                    hurricane-seed  \\\n",
       "name                Hurricane Seed   \n",
       "source            Anemo Hypostasis   \n",
       "characters  [jean, sucrose, venti]   \n",
       "\n",
       "                                            hoarfrost-core  \\\n",
       "name                                        Hoarfrost Core   \n",
       "source                                      Cryo Regisvine   \n",
       "characters  [chongyun, diona, ganyu, kaeya, qiqi, rosaria]   \n",
       "\n",
       "                                  lightning-prism  \\\n",
       "name                              Lightning Prism   \n",
       "source                         Electro Hypostasis   \n",
       "characters  [beidou, fischl, keqing, lisa, razor]   \n",
       "\n",
       "                                   basalt-pillar  \\\n",
       "name                               Basalt Pillar   \n",
       "source                            Geo Hypostasis   \n",
       "characters  [albedo, ningguang, noelle, zhongli]   \n",
       "\n",
       "                                cleansing-heart  \\\n",
       "name                            Cleansing Heart   \n",
       "source                                  Oceanid   \n",
       "characters  [barbara, mona, tartaglia, xingqiu]   \n",
       "\n",
       "                                              everflame-seed  \\\n",
       "name                                          Everflame Seed   \n",
       "source                                        Pyro Regisvine   \n",
       "characters  [amber, bennett, diluc, klee, xiangling, Xinyan]   \n",
       "\n",
       "                     juvenile-jade  crystalline-bloom  marionette-core  \\\n",
       "name                 Juvenile Jade  Crystalline Bloom  Marionette Core   \n",
       "source             Primo Geovishap    Cryo Hypostasis      Maguu Kenki   \n",
       "characters  [hu-tao, xiao, yanfei]       [aloy, eula]   [kazuha, sayu]   \n",
       "\n",
       "                       perpetual-heart  smoldering-pearl  dew-of-repudiation  \\\n",
       "name                   Perpetual Heart  Smoldering Pearl  Dew of Repudiation   \n",
       "source      Perpetual Mechanical Array   Pyro Hypostasis    Hydro Hypostasis   \n",
       "characters              [gorou, ayaka]  [thoma, yoimiya]            [kokomi]   \n",
       "\n",
       "                      storm-beads         riftborn-regalia  \\\n",
       "name                  Storm Beads         Riftborn Regalia   \n",
       "source      Thunder Manifestation          Golden Wolflord   \n",
       "characters         [sara, raiden]  [arataki-itto, yun-jin]   \n",
       "\n",
       "            dragonheir-s-false-fin  \n",
       "name        Dragonheir's False Fin  \n",
       "source             Coral Defenders  \n",
       "characters      [shenhe, yae-miko]  "
      ]
     },
     "execution_count": 4,
     "metadata": {},
     "output_type": "execute_result"
    }
   ],
   "source": [
    "# Creating the data frame to hold the data\n",
    "df = pd.DataFrame(data)\n",
    "df"
   ]
  },
  {
   "cell_type": "code",
   "execution_count": 5,
   "id": "c893f484",
   "metadata": {
    "scrolled": false
   },
   "outputs": [],
   "source": [
    "# Converting the DataFrame to a dictionary to add a new row\n",
    "data_dict = df.to_dict()\n",
    "# The base url to request another part of the Genshin Api\n",
    "char_url = \"https://api.genshin.dev/characters/\"\n",
    "count = 0\n",
    "# Nested for loop to cross reference separate parts of the API data for character rarity\n",
    "for x in data_dict:\n",
    "    count = 0\n",
    "    for i in data_dict[x]['characters']:\n",
    "        group = requests.get(char_url + i)\n",
    "        if group.status_code == 200:\n",
    "            character = group.json()\n",
    "        else:\n",
    "            print(\"There was an error\")\n",
    "        if character['rarity'] == 5:\n",
    "            count+=0\n",
    "        elif character['rarity'] == 4:\n",
    "            count+=1\n",
    "    # Creating/filling new row with the ratio of 4-stars to 5-stars\n",
    "    data_dict[x][\"average\"] = count/len(data_dict[x]['characters'])   \n"
   ]
  },
  {
   "cell_type": "code",
   "execution_count": 6,
   "id": "a914ff2b",
   "metadata": {
    "scrolled": false
   },
   "outputs": [
    {
     "data": {
      "text/html": [
       "<div>\n",
       "<style scoped>\n",
       "    .dataframe tbody tr th:only-of-type {\n",
       "        vertical-align: middle;\n",
       "    }\n",
       "\n",
       "    .dataframe tbody tr th {\n",
       "        vertical-align: top;\n",
       "    }\n",
       "\n",
       "    .dataframe thead th {\n",
       "        text-align: right;\n",
       "    }\n",
       "</style>\n",
       "<table border=\"1\" class=\"dataframe\">\n",
       "  <thead>\n",
       "    <tr style=\"text-align: right;\">\n",
       "      <th></th>\n",
       "      <th>lightning-prism</th>\n",
       "      <th>hoarfrost-core</th>\n",
       "      <th>everflame-seed</th>\n",
       "      <th>basalt-pillar</th>\n",
       "      <th>cleansing-heart</th>\n",
       "      <th>marionette-core</th>\n",
       "      <th>perpetual-heart</th>\n",
       "      <th>smoldering-pearl</th>\n",
       "      <th>storm-beads</th>\n",
       "      <th>riftborn-regalia</th>\n",
       "      <th>hurricane-seed</th>\n",
       "      <th>juvenile-jade</th>\n",
       "      <th>crystalline-bloom</th>\n",
       "      <th>dew-of-repudiation</th>\n",
       "      <th>dragonheir-s-false-fin</th>\n",
       "    </tr>\n",
       "  </thead>\n",
       "  <tbody>\n",
       "    <tr>\n",
       "      <th>source</th>\n",
       "      <td>Electro Hypostasis</td>\n",
       "      <td>Cryo Regisvine</td>\n",
       "      <td>Pyro Regisvine</td>\n",
       "      <td>Geo Hypostasis</td>\n",
       "      <td>Oceanid</td>\n",
       "      <td>Maguu Kenki</td>\n",
       "      <td>Perpetual Mechanical Array</td>\n",
       "      <td>Pyro Hypostasis</td>\n",
       "      <td>Thunder Manifestation</td>\n",
       "      <td>Golden Wolflord</td>\n",
       "      <td>Anemo Hypostasis</td>\n",
       "      <td>Primo Geovishap</td>\n",
       "      <td>Cryo Hypostasis</td>\n",
       "      <td>Hydro Hypostasis</td>\n",
       "      <td>Coral Defenders</td>\n",
       "    </tr>\n",
       "    <tr>\n",
       "      <th>characters</th>\n",
       "      <td>[beidou, fischl, keqing, lisa, razor]</td>\n",
       "      <td>[chongyun, diona, ganyu, kaeya, qiqi, rosaria]</td>\n",
       "      <td>[amber, bennett, diluc, klee, xiangling, Xinyan]</td>\n",
       "      <td>[albedo, ningguang, noelle, zhongli]</td>\n",
       "      <td>[barbara, mona, tartaglia, xingqiu]</td>\n",
       "      <td>[kazuha, sayu]</td>\n",
       "      <td>[gorou, ayaka]</td>\n",
       "      <td>[thoma, yoimiya]</td>\n",
       "      <td>[sara, raiden]</td>\n",
       "      <td>[arataki-itto, yun-jin]</td>\n",
       "      <td>[jean, sucrose, venti]</td>\n",
       "      <td>[hu-tao, xiao, yanfei]</td>\n",
       "      <td>[aloy, eula]</td>\n",
       "      <td>[kokomi]</td>\n",
       "      <td>[shenhe, yae-miko]</td>\n",
       "    </tr>\n",
       "    <tr>\n",
       "      <th>average</th>\n",
       "      <td>0.8</td>\n",
       "      <td>0.666667</td>\n",
       "      <td>0.666667</td>\n",
       "      <td>0.5</td>\n",
       "      <td>0.5</td>\n",
       "      <td>0.5</td>\n",
       "      <td>0.5</td>\n",
       "      <td>0.5</td>\n",
       "      <td>0.5</td>\n",
       "      <td>0.5</td>\n",
       "      <td>0.333333</td>\n",
       "      <td>0.333333</td>\n",
       "      <td>0.0</td>\n",
       "      <td>0.0</td>\n",
       "      <td>0.0</td>\n",
       "    </tr>\n",
       "  </tbody>\n",
       "</table>\n",
       "</div>"
      ],
      "text/plain": [
       "                                  lightning-prism  \\\n",
       "source                         Electro Hypostasis   \n",
       "characters  [beidou, fischl, keqing, lisa, razor]   \n",
       "average                                       0.8   \n",
       "\n",
       "                                            hoarfrost-core  \\\n",
       "source                                      Cryo Regisvine   \n",
       "characters  [chongyun, diona, ganyu, kaeya, qiqi, rosaria]   \n",
       "average                                           0.666667   \n",
       "\n",
       "                                              everflame-seed  \\\n",
       "source                                        Pyro Regisvine   \n",
       "characters  [amber, bennett, diluc, klee, xiangling, Xinyan]   \n",
       "average                                             0.666667   \n",
       "\n",
       "                                   basalt-pillar  \\\n",
       "source                            Geo Hypostasis   \n",
       "characters  [albedo, ningguang, noelle, zhongli]   \n",
       "average                                      0.5   \n",
       "\n",
       "                                cleansing-heart marionette-core  \\\n",
       "source                                  Oceanid     Maguu Kenki   \n",
       "characters  [barbara, mona, tartaglia, xingqiu]  [kazuha, sayu]   \n",
       "average                                     0.5             0.5   \n",
       "\n",
       "                       perpetual-heart  smoldering-pearl  \\\n",
       "source      Perpetual Mechanical Array   Pyro Hypostasis   \n",
       "characters              [gorou, ayaka]  [thoma, yoimiya]   \n",
       "average                            0.5               0.5   \n",
       "\n",
       "                      storm-beads         riftborn-regalia  \\\n",
       "source      Thunder Manifestation          Golden Wolflord   \n",
       "characters         [sara, raiden]  [arataki-itto, yun-jin]   \n",
       "average                       0.5                      0.5   \n",
       "\n",
       "                    hurricane-seed           juvenile-jade crystalline-bloom  \\\n",
       "source            Anemo Hypostasis         Primo Geovishap   Cryo Hypostasis   \n",
       "characters  [jean, sucrose, venti]  [hu-tao, xiao, yanfei]      [aloy, eula]   \n",
       "average                   0.333333                0.333333               0.0   \n",
       "\n",
       "           dew-of-repudiation dragonheir-s-false-fin  \n",
       "source       Hydro Hypostasis        Coral Defenders  \n",
       "characters           [kokomi]     [shenhe, yae-miko]  \n",
       "average                   0.0                    0.0  "
      ]
     },
     "execution_count": 6,
     "metadata": {},
     "output_type": "execute_result"
    }
   ],
   "source": [
    "# Sorting the dictionary in descending order\n",
    "sort = sorted(data_dict.items(), key = lambda x: x[1]['average'], reverse = True)\n",
    "result = {}\n",
    "# Fixing the sorted dictionary as the keys(Boss material names) became a tuple with the rest of the material data\n",
    "for section in sort:\n",
    "    result[section[0]] = section[1]\n",
    "# Converting the dictionary back to a DataFrame    \n",
    "actual_df = pd.DataFrame.from_dict(result)\n",
    "# Deleting the first row(Boss material name) as it appears twice as the column names and the first row\n",
    "actual_df = actual_df.drop('name')\n",
    "actual_df"
   ]
  },
  {
   "cell_type": "code",
   "execution_count": 11,
   "id": "283bca38",
   "metadata": {
    "scrolled": false
   },
   "outputs": [
    {
     "name": "stdout",
     "output_type": "stream",
     "text": [
      "                                  lightning-prism  \\\n",
      "source                         Electro Hypostasis   \n",
      "characters  [beidou, fischl, keqing, lisa, razor]   \n",
      "average                                       0.8   \n",
      "\n",
      "                                            hoarfrost-core  \\\n",
      "source                                      Cryo Regisvine   \n",
      "characters  [chongyun, diona, ganyu, kaeya, qiqi, rosaria]   \n",
      "average                                           0.666667   \n",
      "\n",
      "                                              everflame-seed  \\\n",
      "source                                        Pyro Regisvine   \n",
      "characters  [amber, bennett, diluc, klee, xiangling, Xinyan]   \n",
      "average                                             0.666667   \n",
      "\n",
      "                                   basalt-pillar  \\\n",
      "source                            Geo Hypostasis   \n",
      "characters  [albedo, ningguang, noelle, zhongli]   \n",
      "average                                      0.5   \n",
      "\n",
      "                                cleansing-heart  \n",
      "source                                  Oceanid  \n",
      "characters  [barbara, mona, tartaglia, xingqiu]  \n",
      "average                                     0.5  \n"
     ]
    }
   ],
   "source": [
    "first_5 = actual_df.iloc[:, :5]\n",
    "print(first_5)"
   ]
  },
  {
   "cell_type": "code",
   "execution_count": 8,
   "id": "3afde72e",
   "metadata": {
    "scrolled": false
   },
   "outputs": [
    {
     "data": {
      "text/plain": [
       "<Axes: xlabel='Boss Material', ylabel='4 Star to 5 Star Ratio'>"
      ]
     },
     "execution_count": 8,
     "metadata": {},
     "output_type": "execute_result"
    },
    {
     "data": {
      "image/png": "[encoded data removed]",
      "text/plain": [
       "<Figure size 640x480 with 1 Axes>"
      ]
     },
     "metadata": {},
     "output_type": "display_data"
    }
   ],
   "source": [
    "# Creating bar graph of top 5 boss materials\n",
    "first_5.transpose().plot.bar(xlabel='Boss Material', ylabel = \"4 Star to 5 Star Ratio\")"
   ]
  },
  {
   "cell_type": "code",
   "execution_count": 9,
   "id": "f055e8ea",
   "metadata": {
    "scrolled": false
   },
   "outputs": [
    {
     "name": "stdout",
     "output_type": "stream",
     "text": [
      "                    hurricane-seed           juvenile-jade crystalline-bloom  \\\n",
      "source            Anemo Hypostasis         Primo Geovishap   Cryo Hypostasis   \n",
      "characters  [jean, sucrose, venti]  [hu-tao, xiao, yanfei]      [aloy, eula]   \n",
      "average                   0.333333                0.333333               0.0   \n",
      "\n",
      "           dew-of-repudiation dragonheir-s-false-fin  \n",
      "source       Hydro Hypostasis        Coral Defenders  \n",
      "characters           [kokomi]     [shenhe, yae-miko]  \n",
      "average                   0.0                    0.0  \n"
     ]
    }
   ],
   "source": [
    "last_5 = actual_df.iloc[:, -5:]\n",
    "print(last_5)"
   ]
  },
  {
   "cell_type": "code",
   "execution_count": 10,
   "id": "b63c6489",
   "metadata": {
    "scrolled": false
   },
   "outputs": [
    {
     "data": {
      "text/plain": [
       "<Axes: xlabel='Boss Material', ylabel='4 Star to 5 Star Ratio'>"
      ]
     },
     "execution_count": 10,
     "metadata": {},
     "output_type": "execute_result"
    },
    {
     "data": {
      "image/png": "[encoded data removed]",
      "text/plain": [
       "<Figure size 640x480 with 1 Axes>"
      ]
     },
     "metadata": {},
     "output_type": "display_data"
    }
   ],
   "source": [
    "# Creating bar graph of last 5 boss materials\n",
    "last_5.transpose().plot.bar(xlabel='Boss Material', ylabel = \"4 Star to 5 Star Ratio\")"
   ]
  }
 ],
 "metadata": {
  "kernelspec": {
   "display_name": "Python 3 (ipykernel)",
   "language": "python",
   "name": "python3"
  },
  "language_info": {
   "codemirror_mode": {
    "name": "ipython",
    "version": 3
   },
   "file_extension": ".py",
   "mimetype": "text/x-python",
   "name": "python",
   "nbconvert_exporter": "python",
   "pygments_lexer": "ipython3",
   "version": "3.11.4"
  }
 },
 "nbformat": 4,
 "nbformat_minor": 5
}
